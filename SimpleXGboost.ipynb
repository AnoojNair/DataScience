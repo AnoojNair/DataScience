{
  "cells": [
    {
      "metadata": {
        "_cell_guid": "79c7e3d0-c299-4dcb-8224-4455121ee9b0",
        "_uuid": "d629ff2d2480ee46fbb7e2d37f6b5fab8052498a",
        "trusted": true
      },
      "cell_type": "code",
      "source": "import numpy as np\nimport matplotlib.pyplot as plt\nimport pandas as pd",
      "execution_count": null,
      "outputs": []
    },
    {
      "metadata": {
        "trusted": true,
        "_uuid": "339cb1d381e68281d65f668bbaef605beb77d2ba"
      },
      "cell_type": "code",
      "source": "dataset = pd.read_csv('../input/train.csv')\ndf1 = pd.read_csv('../input/test.csv')\nX = dataset.iloc[:, 1:6].values\ny = dataset.iloc[:, 6].values\nX_val = df1.iloc[:,1:6].values",
      "execution_count": null,
      "outputs": []
    },
    {
      "metadata": {
        "trusted": true,
        "_uuid": "37fa404ab56f30ec5301f385367cb7df012d3dfd"
      },
      "cell_type": "code",
      "source": "from sklearn.preprocessing import LabelEncoder, OneHotEncoder\nlabelEncoder_X = LabelEncoder()\nX[:,4] = labelEncoder_X.fit_transform(X[:,4])\nX_val[:,4] = labelEncoder_X.fit_transform(X_val[:,4])\n\nlabelEncoder_y = LabelEncoder()\ny = labelEncoder_y.fit_transform(y)\n\nonehotEncoder = OneHotEncoder(categorical_features=[4])\nX = onehotEncoder.fit_transform(X).toarray()\nX = X[:,1:]\nX_val = onehotEncoder.fit_transform(X_val).toarray()\nX_val = X_val[:,1:]\n\n# Splitting the dataset into the Training set and Test set\nfrom sklearn.model_selection import train_test_split\nX_train, X_test, y_train, y_test = train_test_split(X, y, test_size = 0.2, random_state = 0)",
      "execution_count": null,
      "outputs": []
    },
    {
      "metadata": {
        "trusted": true,
        "_uuid": "3473c32e382d34b0d7a6fbf33ce26c8685d9f039"
      },
      "cell_type": "code",
      "source": "import xgboost as xgb\nmodel=xgb.XGBClassifier(scale_pos_weight=1, random_state=1,learning_rate=0.01,n_estimators=1000,reg_alpha=0.3,\n                        max_depth=3,subsample=1,colsample_bytree=1,objective='multi:softmax')\nmodel.fit(X_train, y_train)\nmodel.score(X_test,y_test)",
      "execution_count": null,
      "outputs": []
    },
    {
      "metadata": {
        "trusted": true,
        "_uuid": "0d53be17279f38404095e90d1af840929e63f4eb"
      },
      "cell_type": "code",
      "source": "y_pred = model.predict(X_test)\ny_pred",
      "execution_count": null,
      "outputs": []
    },
    {
      "metadata": {
        "trusted": true,
        "_uuid": "b71c14be59fd94e8c152c39d8e1174f78af7c33e"
      },
      "cell_type": "code",
      "source": "from sklearn.metrics import confusion_matrix\ncm = confusion_matrix(y_test,y_pred)\ncm",
      "execution_count": null,
      "outputs": []
    },
    {
      "metadata": {
        "trusted": true,
        "_uuid": "f6e8c6d744c8b3e5e45518ea2ec9ea664e9b5c74"
      },
      "cell_type": "code",
      "source": "from sklearn.model_selection import cross_val_score\naccuracies = cross_val_score(estimator=model ,X= X_train,y= y_train,cv=10)\naccuracies.mean()\naccuracies.std()",
      "execution_count": null,
      "outputs": []
    },
    {
      "metadata": {
        "trusted": true,
        "_uuid": "2a28f4a24a7373dab74c530d391f27ee98eec422"
      },
      "cell_type": "code",
      "source": "y_val = model.predict(X_val)\ny_val",
      "execution_count": null,
      "outputs": []
    },
    {
      "metadata": {
        "trusted": true,
        "_uuid": "e915513c6847f328500f8324600fae1b044d37bf"
      },
      "cell_type": "code",
      "source": "y_val = labelEncoder_y.inverse_transform(y_val)\ny_val",
      "execution_count": null,
      "outputs": []
    }
  ],
  "metadata": {
    "kernelspec": {
      "display_name": "Python 3",
      "language": "python",
      "name": "python3"
    },
    "language_info": {
      "name": "python",
      "version": "3.6.6",
      "mimetype": "text/x-python",
      "codemirror_mode": {
        "name": "ipython",
        "version": 3
      },
      "pygments_lexer": "ipython3",
      "nbconvert_exporter": "python",
      "file_extension": ".py"
    }
  },
  "nbformat": 4,
  "nbformat_minor": 1
}