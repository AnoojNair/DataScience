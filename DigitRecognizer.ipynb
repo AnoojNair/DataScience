{
  "cells": [
    {
      "metadata": {
        "_uuid": "725fb00143c2e3c8c5f0946263520a33147807ca"
      },
      "cell_type": "markdown",
      "source": "Digit Recognizer (https://www.kaggle.com/c/digit-recognizer)"
    },
    {
      "metadata": {
        "trusted": true,
        "_uuid": "abae7c3d716c8fc8a0eba7574aa3e6f4bed1b313"
      },
      "cell_type": "code",
      "source": "import pandas as pd\nimport numpy as np\nimport matplotlib.pyplot as plt\nimport seaborn as sns",
      "execution_count": null,
      "outputs": []
    },
    {
      "metadata": {
        "trusted": true,
        "_uuid": "849fb5c2e12e3046e6c231ebc4917e06baf8536a"
      },
      "cell_type": "code",
      "source": "df_digit_train = pd.read_csv('../input/train.csv')\ndf_digit_test = pd.read_csv('../input/test.csv')",
      "execution_count": null,
      "outputs": []
    },
    {
      "metadata": {
        "scrolled": true,
        "trusted": true,
        "_uuid": "44792e06bf9cde3645fd59894805a2f799c40ed5"
      },
      "cell_type": "code",
      "source": "df_digit_train.head()",
      "execution_count": null,
      "outputs": []
    },
    {
      "metadata": {
        "trusted": true,
        "_uuid": "aafce22cbc5b4f70b777339e13a4aa260b227c8c"
      },
      "cell_type": "code",
      "source": "df_digit_test.head()",
      "execution_count": null,
      "outputs": []
    },
    {
      "metadata": {
        "trusted": true,
        "_uuid": "058f6b551a61e92ee1847d7aaff13d2e71dc0530"
      },
      "cell_type": "code",
      "source": "df_digit_train.shape",
      "execution_count": null,
      "outputs": []
    },
    {
      "metadata": {
        "trusted": true,
        "_uuid": "cbeaa666a573e7dfedff5bd29eb4216e8b573dca"
      },
      "cell_type": "code",
      "source": "training = np.array(df_digit_train,dtype='float32')\ntesting = np.array(df_digit_test,dtype='float32')",
      "execution_count": null,
      "outputs": []
    },
    {
      "metadata": {
        "trusted": true,
        "_uuid": "d114413c67e810a432f0d4e24e7db4edfd4f485a"
      },
      "cell_type": "code",
      "source": "df_digit_test.shape",
      "execution_count": null,
      "outputs": []
    },
    {
      "metadata": {
        "trusted": true,
        "_uuid": "1de0956fb14dfe47cdd44846032a24822e77471b"
      },
      "cell_type": "code",
      "source": "import random \ni = random.randint(1,42000)\nplt.imshow(training[i,1:].reshape(28,28))\nlabel = training[i,0]\nlabel",
      "execution_count": null,
      "outputs": []
    },
    {
      "metadata": {
        "trusted": true,
        "_uuid": "2d951994733f70a1a679a33062e62d3ee1808e59"
      },
      "cell_type": "code",
      "source": "W_grid = 2\nL_grid = 5\nfig, axes = plt.subplots(L_grid,W_grid,figsize=(17,17))\naxes = axes.ravel()\nn_training = len(training)\nfor i in np.arange(0,W_grid*L_grid):\n    index = np.random.randint(0,n_training)\n    axes[i].imshow(training[index,1:].reshape((28,28)))\n    axes[i].set_title(training[index,0],fontsize = 8)\n    axes[i].axis('off')\n    \nplt.subplots_adjust(hspace=0.4)",
      "execution_count": null,
      "outputs": []
    },
    {
      "metadata": {
        "trusted": false,
        "_uuid": "68c46b2ae12c81772933eabb27f69fac20406c08"
      },
      "cell_type": "code",
      "source": "training.shape",
      "execution_count": null,
      "outputs": []
    },
    {
      "metadata": {
        "trusted": false,
        "_uuid": "6a117b8d1de9304fd22769136f6e0285f27c94e1"
      },
      "cell_type": "code",
      "source": "training[0]",
      "execution_count": null,
      "outputs": []
    },
    {
      "metadata": {
        "trusted": false,
        "_uuid": "52cc24b237af46f00c9c910d6626fcbfd5b1d7f2"
      },
      "cell_type": "code",
      "source": "training[0].shape",
      "execution_count": null,
      "outputs": []
    },
    {
      "metadata": {
        "trusted": true,
        "_uuid": "5842eee6306422b8dc361009f6195c4ab133bfca"
      },
      "cell_type": "code",
      "source": "X_train = training[:,1:]/255\ny_train = training[:,0]\nX_test = testing[:,0:]/255\n#y_test = testing[:,0]",
      "execution_count": null,
      "outputs": []
    },
    {
      "metadata": {
        "trusted": true,
        "_uuid": "31eb46f807a759ac5b9feedf8c8fb4c3ed1b7c32"
      },
      "cell_type": "code",
      "source": "from sklearn.model_selection import train_test_split\nX_train,X_validate,y_train,y_validate = train_test_split(X_train,y_train,test_size=0.2,random_state=12345)",
      "execution_count": null,
      "outputs": []
    },
    {
      "metadata": {
        "trusted": true,
        "_uuid": "e8f389d92a72ce194b695f7a8e4b21ab28054afa"
      },
      "cell_type": "code",
      "source": "X_test.shape",
      "execution_count": null,
      "outputs": []
    },
    {
      "metadata": {
        "trusted": true,
        "_uuid": "322054826718709d35430c7e83c81eb0e05db7ed"
      },
      "cell_type": "code",
      "source": "X_train = X_train.reshape(X_train.shape[0],*(28,28,1))\nX_validate = X_validate.reshape(X_validate.shape[0],*(28,28,1))\nX_test = X_test.reshape(X_test.shape[0],*(28,28,1))",
      "execution_count": null,
      "outputs": []
    },
    {
      "metadata": {
        "trusted": true,
        "_uuid": "aea7a71943b3667e7fde7eb7a6e77041e54da1e7"
      },
      "cell_type": "code",
      "source": "import keras\nfrom keras.models import Sequential\nfrom keras.layers import Conv2D, MaxPooling2D, Dense,Flatten,Dropout\nfrom keras.optimizers import Adam\nfrom keras.callbacks import TensorBoard",
      "execution_count": null,
      "outputs": []
    },
    {
      "metadata": {
        "trusted": true,
        "_uuid": "d7ccf2adbf3cc9afdb449e499e2ce67cb8115056"
      },
      "cell_type": "code",
      "source": "cnn_model = Sequential()\ncnn_model.add(Conv2D(32,3,3,input_shape=(28,28,1),activation='relu'))\ncnn_model.add(MaxPooling2D(pool_size=(2,2)))\ncnn_model.add(Flatten())\ncnn_model.add(Dense(output_dim=32,activation='relu'))\ncnn_model.add(Dense(output_dim=10,activation='sigmoid'))",
      "execution_count": null,
      "outputs": []
    },
    {
      "metadata": {
        "trusted": true,
        "_uuid": "0e62d5d46dca56855377086740b4105343df9c27"
      },
      "cell_type": "code",
      "source": "cnn_model.compile(loss='sparse_categorical_crossentropy',optimizer=Adam(lr=0.001),metrics=['accuracy'])",
      "execution_count": null,
      "outputs": []
    },
    {
      "metadata": {
        "trusted": true,
        "_uuid": "31d6e5c84e8de758cd6b800ed045246642ea7e82"
      },
      "cell_type": "code",
      "source": "epochs = 50\ncnn_model.fit(X_train,y_train,batch_size=512,nb_epoch =epochs,verbose=1,validation_data=(X_validate,y_validate))",
      "execution_count": null,
      "outputs": []
    },
    {
      "metadata": {
        "_uuid": "587f59ef4c6c15a2881c8f93158665365ac18dda"
      },
      "cell_type": "markdown",
      "source": "Evaluating the model"
    },
    {
      "metadata": {
        "trusted": true,
        "_uuid": "3ebd7acf0f0f67c47c29755abb85890db3ea3378"
      },
      "cell_type": "code",
      "source": "predicted_classes = cnn_model.predict_classes(X_test)\npredicted_classes",
      "execution_count": null,
      "outputs": []
    },
    {
      "metadata": {
        "scrolled": true,
        "trusted": true,
        "_uuid": "cef290db3cc6c701755450dd9816c795c7a4a4d5"
      },
      "cell_type": "code",
      "source": "L = 5\nW = 5\nfig, axes = plt.subplots(L,W,figsize= (12,12))\naxes= axes.ravel()\nfor i in np.arange(0,L* W):\n    axes[i].imshow(X_test[i].reshape(28,28))\n    axes[i].set_title(\"Predicted Class = {:0.1f}\".format(predicted_classes[i]))\n    axes[i].axis('off')\n\nplt.subplots_adjust(wspace=0.5)",
      "execution_count": null,
      "outputs": []
    },
    {
      "metadata": {
        "trusted": true,
        "_uuid": "460af0b3eac37f04942f299ea7f274c56ae816c8"
      },
      "cell_type": "code",
      "source": "",
      "execution_count": null,
      "outputs": []
    }
  ],
  "metadata": {
    "kernelspec": {
      "display_name": "Python 3",
      "language": "python",
      "name": "python3"
    },
    "language_info": {
      "codemirror_mode": {
        "name": "ipython",
        "version": 3
      },
      "file_extension": ".py",
      "mimetype": "text/x-python",
      "name": "python",
      "nbconvert_exporter": "python",
      "pygments_lexer": "ipython3",
      "version": "3.6.5"
    }
  },
  "nbformat": 4,
  "nbformat_minor": 1
}